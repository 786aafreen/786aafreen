{
  "nbformat": 4,
  "nbformat_minor": 0,
  "metadata": {
    "colab": {
      "private_outputs": true,
      "provenance": [],
      "authorship_tag": "ABX9TyPKKb0wrtgl8meMVPQfQjfp",
      "include_colab_link": true
    },
    "kernelspec": {
      "name": "python3",
      "display_name": "Python 3"
    },
    "language_info": {
      "name": "python"
    }
  },
  "cells": [
    {
      "cell_type": "markdown",
      "metadata": {
        "id": "view-in-github",
        "colab_type": "text"
      },
      "source": [
        "<a href=\"https://colab.research.google.com/github/786aafreen/786aafreen/blob/main/ODEs.ipynb\" target=\"_parent\"><img src=\"https://colab.research.google.com/assets/colab-badge.svg\" alt=\"Open In Colab\"/></a>"
      ]
    },
    {
      "cell_type": "code",
      "execution_count": null,
      "metadata": {
        "id": "j7kbWf0NuzDy"
      },
      "outputs": [],
      "source": [
        "from scipy.integrate import odeint"
      ]
    },
    {
      "cell_type": "code",
      "source": [
        "import numpy as np\n",
        "import matplotlib.pyplot as plt\n"
      ],
      "metadata": {
        "id": "27xXRbJMu7En"
      },
      "execution_count": null,
      "outputs": []
    },
    {
      "cell_type": "code",
      "source": [
        "def odes(x,t):\n",
        "  #x is vector , t is time\n",
        "  #constant\n",
        "  a1 = 3e5\n",
        "  a2 = 0.2\n",
        "  a3 = 4e-7\n",
        "  a4 = 0.6\n",
        "  a5 = 8\n",
        "  a6 = 90\n",
        "  #assign each ODE to vector element\n",
        "  A = x[0]\n",
        "  B = x[1]\n",
        "  C = x[2]\n",
        "\n",
        "\n",
        "  #define each ODE\n",
        "\n",
        "  dAdt = a1-a2*A-a3*A*C\n",
        "  dBdt = a3*A*C-a4*B\n",
        "  dCdt = -a3*A*C - a5*C + a6*B\n",
        "\n",
        "  return [dAdt, dBdt, dCdt]\n",
        "\n",
        "  #initial codition\n",
        "\n",
        "  x0 = [2e6, 0, 90]\n",
        "\n",
        "  #test the defined ODEs\n",
        "  print(odes(x = x0))\n"
      ],
      "metadata": {
        "id": "439Rws0YvAqN"
      },
      "execution_count": null,
      "outputs": []
    },
    {
      "cell_type": "code",
      "source": [],
      "metadata": {
        "id": "2bdMfXk3yfcu"
      },
      "execution_count": null,
      "outputs": []
    },
    {
      "cell_type": "code",
      "source": [
        "#initial codition\n",
        "\n",
        "x0 = [2e6, 0, 90]"
      ],
      "metadata": {
        "id": "EdTq4RjTwu_u"
      },
      "execution_count": null,
      "outputs": []
    },
    {
      "cell_type": "code",
      "source": [
        "#test the defined ODEs\n",
        "print(odes(x = x0, t=0))"
      ],
      "metadata": {
        "id": "gxCKnNIoxU_g"
      },
      "execution_count": null,
      "outputs": []
    },
    {
      "cell_type": "code",
      "source": [
        "#declare a time vector (time windows)\n",
        "\n",
        "t = np.linspace(0,15,1000)\n",
        "x = odeint(odes, x0, t)\n",
        "\n",
        "A = x[:, 0]\n",
        "B = x[:, 1]\n",
        "C = x[:, 2]\n",
        "\n",
        "#plot the result\n",
        "\n",
        "plt.semilogy(t,A)\n",
        "plt.semilogy(t,B)\n",
        "plt.semilogy(t, C)\n",
        "plt.show()\n"
      ],
      "metadata": {
        "id": "qhk4z3BSygaL"
      },
      "execution_count": null,
      "outputs": []
    }
  ]
}